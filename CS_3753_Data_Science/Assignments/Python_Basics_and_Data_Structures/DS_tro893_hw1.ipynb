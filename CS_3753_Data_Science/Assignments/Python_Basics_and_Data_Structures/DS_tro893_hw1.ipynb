{
  "nbformat": 4,
  "nbformat_minor": 0,
  "metadata": {
    "colab": {
      "provenance": [],
      "toc_visible": true
    },
    "kernelspec": {
      "name": "python3",
      "display_name": "Python 3"
    },
    "language_info": {
      "name": "python"
    }
  },
  "cells": [
    {
      "cell_type": "markdown",
      "source": [
        "Instructions:\n",
        "1. Download the file tro893_hw1.ipynb.\n",
        "2. Open the file via Jupyter Notebook or Google Colab.\n",
        "3. Ensure all data files are in the same directory as the notebook.\n",
        "4. Run the code by clicking the 'Run' button in the toolbar or pressing Shift+Enter on each cell.\n",
        "\n"
      ],
      "metadata": {
        "id": "HWsWFp71W5st"
      }
    },
    {
      "cell_type": "markdown",
      "source": [
        "String (20 points)\n",
        "1. Create the string str with “Welcome to Python Programming”\n",
        "2. Output the string using the function Print\n",
        "3. Output the substring from indexes 11 to 16 (including both indexes 11 and 16).\n",
        "4. Output the substring of the last 5 characters (please use negative index)\n",
        "5. Concatenate the string ‘!!!’ to the end of the string str\n",
        "6. Output the string str"
      ],
      "metadata": {
        "id": "37AamcaYXUtQ"
      }
    },
    {
      "cell_type": "code",
      "source": [
        "#1\n",
        "str_test = \"Welcome to Python Programming\"\n",
        "\n",
        "#2\n",
        "print(str_test)\n",
        "\n",
        "#3\n",
        "print(str_test[11:17])\n",
        "\n",
        "#4\n",
        "print(str_test[-5:])\n",
        "\n",
        "#5\n",
        "str_test += '!!!'\n",
        "\n",
        "#6\n",
        "print(str_test)\n"
      ],
      "metadata": {
        "colab": {
          "base_uri": "https://localhost:8080/"
        },
        "id": "qXwa2C7eXD8N",
        "outputId": "24f2868b-50ac-4fbf-9d67-8586f7343391"
      },
      "execution_count": null,
      "outputs": [
        {
          "output_type": "stream",
          "name": "stdout",
          "text": [
            "Welcome to Python Programming\n",
            "Python\n",
            "mming\n",
            "Welcome to Python Programming!!!\n"
          ]
        }
      ]
    },
    {
      "cell_type": "markdown",
      "source": [
        "List (32 points)\n",
        "1. Create an empty list\n",
        "2. Add the elements 1, 2, 3, 4 into the list one by one and output the list after all additions\n",
        "3. Add the tuple (5, 6) as an element to the end of the list and output the list\n",
        "Canvas account. output\n",
        "4. Add the list [‘perfect’, ‘wonderful’] as an element to the end of the list and output the\n",
        "list\n",
        "5. Concatenate the list [[7, 8], [9, 10]] to the end of the above list and output the new list\n",
        "6. Add the multiple elements 8.5, 7, ‘code’, ‘software’ to the end of the list at once and\n",
        "output the list\n",
        "7. Output the last 5 elements in the list\n",
        "8. Remove the elements from indexes 3 to 6 and output the list"
      ],
      "metadata": {
        "id": "_crJ98fTXT24"
      }
    },
    {
      "cell_type": "code",
      "source": [
        "#1\n",
        "list_test = []\n",
        "\n",
        "#2\n",
        "list_test.append(1)\n",
        "list_test.append(2)\n",
        "list_test.append(3)\n",
        "list_test.append(4)\n",
        "print(list_test)\n",
        "\n",
        "#3\n",
        "list_test.append((5, 6))\n",
        "print(list_test)\n",
        "\n",
        "#4\n",
        "list_test.append(['perfect', 'wonderful'])\n",
        "print(list_test)\n",
        "\n",
        "#5\n",
        "list_test.extend([[7, 8], [9, 10]])\n",
        "print(list_test)\n",
        "\n",
        "#6:\n",
        "list_test.extend([8.5, 7, 'code', 'software'])\n",
        "print(list_test)\n",
        "\n",
        "#7\n",
        "print(list_test[-5:])\n",
        "\n",
        "#8\n",
        "del list_test[3:7]\n",
        "print(list_test)\n"
      ],
      "metadata": {
        "colab": {
          "base_uri": "https://localhost:8080/"
        },
        "id": "DRwGcNBfYBfe",
        "outputId": "6c2d98c7-8073-4494-c92d-407d17720c21"
      },
      "execution_count": null,
      "outputs": [
        {
          "output_type": "stream",
          "name": "stdout",
          "text": [
            "[1, 2, 3, 4]\n",
            "[1, 2, 3, 4, (5, 6)]\n",
            "[1, 2, 3, 4, (5, 6), ['perfect', 'wonderful']]\n",
            "[1, 2, 3, 4, (5, 6), ['perfect', 'wonderful'], [7, 8], [9, 10]]\n",
            "[1, 2, 3, 4, (5, 6), ['perfect', 'wonderful'], [7, 8], [9, 10], 8.5, 7, 'code', 'software']\n",
            "[[9, 10], 8.5, 7, 'code', 'software']\n",
            "[1, 2, 3, [9, 10], 8.5, 7, 'code', 'software']\n"
          ]
        }
      ]
    },
    {
      "cell_type": "markdown",
      "source": [
        "Tuple (16 points)\n",
        "1. Create a tuple Tuple1 using the list with elements 1, 2, 3, 4 and output the tuple. (Note:\n",
        "there are many ways to create a tuple. You use the list to create the tuple here.)\n",
        "2. Create another tuple Tuple2 with elements ‘Python’, ‘for’, and ‘kids’ directly, and then\n",
        "output the tuple.\n",
        "3. Concatenate the tuple Tuple2 to the end of Tuple1 and assign the resulted tuple to\n",
        "Tuple1. Then output the tuple Tuple1.\n",
        "4. Output elements from index 3 to the end"
      ],
      "metadata": {
        "id": "OjeJ5gS1Yu6t"
      }
    },
    {
      "cell_type": "code",
      "source": [
        "#1\n",
        "Tuple1 = tuple([1, 2, 3, 4])\n",
        "print(Tuple1)\n",
        "\n",
        "#2\n",
        "Tuple2 = ('Python', 'for', 'kids')\n",
        "print(Tuple2)\n",
        "\n",
        "#3\n",
        "Tuple1 = Tuple1 + Tuple2\n",
        "print(Tuple1)\n",
        "\n",
        "#4\n",
        "print(Tuple1[3:])\n"
      ],
      "metadata": {
        "colab": {
          "base_uri": "https://localhost:8080/"
        },
        "id": "I1mREkHfZD9l",
        "outputId": "78f0331f-851c-4e9f-c1ad-eef63c3a7f83"
      },
      "execution_count": null,
      "outputs": [
        {
          "output_type": "stream",
          "name": "stdout",
          "text": [
            "(1, 2, 3, 4)\n",
            "('Python', 'for', 'kids')\n",
            "(1, 2, 3, 4, 'Python', 'for', 'kids')\n",
            "(4, 'Python', 'for', 'kids')\n"
          ]
        }
      ]
    },
    {
      "cell_type": "markdown",
      "source": [
        "Dictionary (32 points)\n",
        "1. Create an empty dictionary Dict\n",
        "2. Adding elements 0: ‘Python’, 1: ‘Programming’, 2: ‘Funny’ one by one and then output\n",
        "the dictionary.\n",
        "3. Update the key 1’s value to ‘is very’ and output the dictionary.\n",
        "4. Output all the keys\n",
        "5. Output all the values\n",
        "6. Delete the element with the key 2 and output the dictionary. (Note: you should delete\n",
        "the entire element with the key and value).\n",
        "7. Check for existence of key 2\n",
        "8. Convert the dictionary Dict to a list. Only the values of the dictionary are in the list.\n",
        "Then, output the list"
      ],
      "metadata": {
        "id": "DfANMuvAZEa6"
      }
    },
    {
      "cell_type": "code",
      "source": [
        "#1\n",
        "Dict = {}\n",
        "\n",
        "#2\n",
        "Dict[0] = 'Python'\n",
        "Dict[1] = 'Programming'\n",
        "Dict[2] = 'Funny'\n",
        "print(Dict)\n",
        "\n",
        "#3\n",
        "Dict[1] = 'is very'\n",
        "print(Dict)\n",
        "\n",
        "#4\n",
        "print(list(Dict.keys()))\n",
        "\n",
        "#5\n",
        "print(list(Dict.values()))\n",
        "\n",
        "#6\n",
        "del Dict[2]\n",
        "print(Dict)\n",
        "\n",
        "#7\n",
        "print(2 in Dict)\n",
        "\n",
        "#8\n",
        "values_list = list(Dict.values())\n",
        "print(values_list)\n"
      ],
      "metadata": {
        "colab": {
          "base_uri": "https://localhost:8080/"
        },
        "id": "Zz2lVtZ0ZEuG",
        "outputId": "56813967-4990-42cb-e694-b79f7ad303da"
      },
      "execution_count": null,
      "outputs": [
        {
          "output_type": "stream",
          "name": "stdout",
          "text": [
            "{0: 'Python', 1: 'Programming', 2: 'Funny'}\n",
            "{0: 'Python', 1: 'is very', 2: 'Funny'}\n",
            "[0, 1, 2]\n",
            "['Python', 'is very', 'Funny']\n",
            "{0: 'Python', 1: 'is very'}\n",
            "False\n",
            "['Python', 'is very']\n"
          ]
        }
      ]
    }
  ]
}