{
  "nbformat": 4,
  "nbformat_minor": 0,
  "metadata": {
    "colab": {
      "provenance": []
    },
    "kernelspec": {
      "name": "python3",
      "display_name": "Python 3"
    }
  },
  "cells": [
    {
      "cell_type": "markdown",
      "metadata": {
        "id": "9wUL_Fy5qUDI"
      },
      "source": [
        "# UTSA CS 3793: Assignment-3\n",
        "\n",
        "**Anderson-Pola - Keanu - (tro893)**\n",
        "\n",
        "\n",
        "\n",
        "\n"
      ]
    },
    {
      "cell_type": "markdown",
      "metadata": {
        "id": "NM8b9KVYsETT"
      },
      "source": [
        "## Learning Objectives\n",
        "\n",
        "Implement 2 different machine learning algorithms\n",
        "*   Stochastic Gradient Descent\n",
        "*   ID3 Decision Tree\n"
      ]
    },
    {
      "cell_type": "markdown",
      "metadata": {
        "id": "LzR4Ic34zJlT"
      },
      "source": [
        "\n",
        "## Description\n",
        "\n",
        "This assignment is focused on **machine learning**, mainly on the implementation of 2 different algorithms - Stochastic Gradient Descent & ID3 decision tree.\n",
        "The assignment is divided into two sections, each for one unique ML algorithm.\n",
        "\n",
        "The base structure and comments are provided on what should be done. You can use some libraries that help support you for the successful completion of the assignment. However, you **CANNOT** use a complete library that contains the implementation of ML algorithms. You can get pieces of code from online, but please cite the source properly.\n"
      ]
    },
    {
      "cell_type": "markdown",
      "metadata": {
        "id": "vnPfmHAOteOI"
      },
      "source": [
        "##Import Libraries\n",
        "\n",
        "Write all the import statements here. This should be for both algorithm implmentations. As mentioned before, you can not use any premade ML libraries."
      ]
    },
    {
      "cell_type": "code",
      "metadata": {
        "id": "f9apbZGptej6",
        "colab": {
          "base_uri": "https://localhost:8080/"
        },
        "outputId": "5412c270-235b-4940-9b73-f3aae6da8464"
      },
      "source": [
        "# import all required libraries\n",
        "import numpy as np\n",
        "import pandas as pd\n",
        "from google.colab import drive\n",
        "import matplotlib.pyplot as plt\n",
        "from collections import Counter\n",
        "\n",
        "drive.mount('/content/drive')"
      ],
      "execution_count": null,
      "outputs": [
        {
          "output_type": "stream",
          "name": "stdout",
          "text": [
            "Drive already mounted at /content/drive; to attempt to forcibly remount, call drive.mount(\"/content/drive\", force_remount=True).\n"
          ]
        }
      ]
    },
    {
      "cell_type": "code",
      "metadata": {
        "id": "fdqXyFZ95P0j"
      },
      "source": [
        "# Assume that the data files are in the following folder -- THIS WILL BE USED BY THE TA\n",
        "basePath = \"/content/drive/My Drive/Colab Notebooks/Artificial Intelligence/Data/\"\n"
      ],
      "execution_count": null,
      "outputs": []
    },
    {
      "cell_type": "markdown",
      "metadata": {
        "id": "YeYRnesWqvLm"
      },
      "source": [
        "#Stochastic Gradient Descent\n",
        "\n",
        "In this section, you will implement the Stochastic Gradient Descent algorithm. The training is for a **binary classification** task i.e. each instance will have a class value of 0 or 1. Also, assume that you are given **all binary-valued attributes** and that there are **no missing values** in the train or test data.\n"
      ]
    },
    {
      "cell_type": "markdown",
      "metadata": {
        "id": "IUVZIK6ctMi4"
      },
      "source": [
        "##Algorithm\n",
        "\n",
        "(40 points)\n",
        "\n",
        "Following are the data files that will be provided to you for the gradient descent algorithm implementation.\n",
        "\n",
        "*   Training file - 'gd-train.dat'\n",
        "*   Testing file - 'gd-test.dat'\n",
        "\n",
        "In these files, only non-space characters are relevant. The first line contains the attribute names. All the other lines are different example instances to be used for the algorithm. Each column holds values of the attributes, whereas the last column holds the class label for that instance.\n",
        "\n",
        "Write the code in the following code block, structure is provided. Instructions on the steps to follow are provided as comments.\n",
        "\n"
      ]
    },
    {
      "cell_type": "code",
      "metadata": {
        "id": "2XoSqVJG5FkG"
      },
      "source": [
        "# Data file name variables for SGD\n",
        "train_gd_path = basePath + \"gd-train.dat\"\n",
        "test_gd_path = basePath + \"gd-test.dat\"\n",
        "\n",
        "# Data file name variables for ID3\n",
        "train_id3_path = basePath + \"id3-train.dat\"\n",
        "test_id3_path = basePath + \"id3-test.dat\""
      ],
      "execution_count": null,
      "outputs": []
    },
    {
      "cell_type": "code",
      "metadata": {
        "id": "l73PTZtCPdxj"
      },
      "source": [
        "# Read the training and testing data files\n",
        "train_gd = pd.read_csv(train_gd_path, delim_whitespace=True)\n",
        "test_gd = pd.read_csv(test_gd_path, delim_whitespace=True)\n",
        "train_id3 = pd.read_csv(train_id3_path, delim_whitespace=True)\n",
        "test_id3 = pd.read_csv(test_id3_path, delim_whitespace=True)"
      ],
      "execution_count": null,
      "outputs": []
    },
    {
      "cell_type": "code",
      "metadata": {
        "id": "VN3FC2qcPfcR"
      },
      "source": [
        "# Activation Function - implement Sigmoid\n",
        "def activation_function(h):\n",
        "  # given 'h' compute and return 'z' based on the activation function implemented\n",
        "  return 1 / (1 + np.exp(-h))\n"
      ],
      "execution_count": null,
      "outputs": []
    },
    {
      "cell_type": "code",
      "metadata": {
        "id": "V5njAQvmPmOC"
      },
      "source": [
        "# Train the model using the given training dataset and the learning rate\n",
        "# return the \"weights\" learnt for the perceptron - include the weight assocaited with bias as the last entry\n",
        "def train_model(train_data, learning_rate=0.05):\n",
        "  num_features = train_data.shape[1] - 1\n",
        "  weights = np.zeros(num_features + 1)\n",
        "  for index, row in train_data.iterrows():\n",
        "    x = np.append(row[:-1], 1)  # Adding bias\n",
        "    y = row[-1]\n",
        "    h = np.dot(weights, x)\n",
        "    z = activation_function(h)\n",
        "    error = y - z\n",
        "    weights += learning_rate * error * x\n",
        "  return weights\n"
      ],
      "execution_count": null,
      "outputs": []
    },
    {
      "cell_type": "code",
      "metadata": {
        "id": "Gx98kNxDPq5B"
      },
      "source": [
        "# Test the model (weights learnt) using the given test dataset\n",
        "# return the accuracy value\n",
        "def test(test_data, weights, threshold):\n",
        "  correct_predictions = 0\n",
        "  for index, row in test_data.iterrows():\n",
        "    x = np.append(row[:-1], 1)  # Adding bias\n",
        "    y = row[-1]\n",
        "    h = np.dot(weights, x)\n",
        "    z = activation_function(h)\n",
        "    prediction = 1 if z >= threshold else 0\n",
        "    if prediction == y:\n",
        "      correct_predictions += 1\n",
        "  accuracy = correct_predictions / len(test_data)\n",
        "  return accuracy\n"
      ],
      "execution_count": null,
      "outputs": []
    },
    {
      "cell_type": "code",
      "metadata": {
        "id": "_5B6IG0APxH4"
      },
      "source": [
        "# Gradient Descent function\n",
        "def gradient_descent(df_train, df_test, learning_rate=0.05, threshold=0.5):\n",
        "  weights = train_model(df_train, learning_rate)\n",
        "  train_accuracy = test(df_train, weights, threshold)\n",
        "  test_accuracy = test(df_test, weights, threshold)\n",
        "  return train_accuracy, test_accuracy\n"
      ],
      "execution_count": null,
      "outputs": []
    },
    {
      "cell_type": "code",
      "metadata": {
        "id": "MB_b5ButP3w3"
      },
      "source": [
        "# Threshold of 0.5 will be used to classify the instance for the test. If the value is >= 0.5, classify as 1 or else 0.\n",
        "threshold = 0.5\n"
      ],
      "execution_count": null,
      "outputs": []
    },
    {
      "cell_type": "code",
      "metadata": {
        "id": "YdPwgSBOtb1P",
        "colab": {
          "base_uri": "https://localhost:8080/"
        },
        "outputId": "cf0204ef-bc63-4fbb-8660-6bccbf05c6b3"
      },
      "source": [
        "# Main algorithm loop\n",
        "learning_rates = [round(0.05 * i, 2) for i in range(1, 21)]\n",
        "for lr in learning_rates:\n",
        "  train_acc, test_acc = gradient_descent(train_gd, test_gd, learning_rate=lr)\n",
        "  print(f\"Accuracy for LR of {lr} on Training data = {train_acc:.2f}\")\n",
        "  print(f\"Accuracy for LR of {lr} on Testing data = {test_acc:.2f}\")"
      ],
      "execution_count": null,
      "outputs": [
        {
          "output_type": "stream",
          "name": "stdout",
          "text": [
            "Accuracy for LR of 0.05 on Training data = 0.68\n",
            "Accuracy for LR of 0.05 on Testing data = 0.72\n",
            "Accuracy for LR of 0.1 on Training data = 0.68\n",
            "Accuracy for LR of 0.1 on Testing data = 0.72\n",
            "Accuracy for LR of 0.15 on Training data = 0.68\n",
            "Accuracy for LR of 0.15 on Testing data = 0.72\n",
            "Accuracy for LR of 0.2 on Training data = 0.69\n",
            "Accuracy for LR of 0.2 on Testing data = 0.71\n",
            "Accuracy for LR of 0.25 on Training data = 0.69\n",
            "Accuracy for LR of 0.25 on Testing data = 0.71\n",
            "Accuracy for LR of 0.3 on Training data = 0.69\n",
            "Accuracy for LR of 0.3 on Testing data = 0.71\n",
            "Accuracy for LR of 0.35 on Training data = 0.69\n",
            "Accuracy for LR of 0.35 on Testing data = 0.70\n",
            "Accuracy for LR of 0.4 on Training data = 0.70\n",
            "Accuracy for LR of 0.4 on Testing data = 0.71\n",
            "Accuracy for LR of 0.45 on Training data = 0.69\n",
            "Accuracy for LR of 0.45 on Testing data = 0.69\n",
            "Accuracy for LR of 0.5 on Training data = 0.69\n",
            "Accuracy for LR of 0.5 on Testing data = 0.69\n",
            "Accuracy for LR of 0.55 on Training data = 0.69\n",
            "Accuracy for LR of 0.55 on Testing data = 0.68\n",
            "Accuracy for LR of 0.6 on Training data = 0.69\n",
            "Accuracy for LR of 0.6 on Testing data = 0.68\n",
            "Accuracy for LR of 0.65 on Training data = 0.69\n",
            "Accuracy for LR of 0.65 on Testing data = 0.67\n",
            "Accuracy for LR of 0.7 on Training data = 0.69\n",
            "Accuracy for LR of 0.7 on Testing data = 0.65\n",
            "Accuracy for LR of 0.75 on Training data = 0.67\n",
            "Accuracy for LR of 0.75 on Testing data = 0.65\n",
            "Accuracy for LR of 0.8 on Training data = 0.66\n",
            "Accuracy for LR of 0.8 on Testing data = 0.65\n",
            "Accuracy for LR of 0.85 on Training data = 0.66\n",
            "Accuracy for LR of 0.85 on Testing data = 0.65\n",
            "Accuracy for LR of 0.9 on Training data = 0.65\n",
            "Accuracy for LR of 0.9 on Testing data = 0.64\n",
            "Accuracy for LR of 0.95 on Training data = 0.67\n",
            "Accuracy for LR of 0.95 on Testing data = 0.64\n",
            "Accuracy for LR of 1.0 on Training data = 0.67\n",
            "Accuracy for LR of 1.0 on Testing data = 0.65\n"
          ]
        }
      ]
    },
    {
      "cell_type": "markdown",
      "metadata": {
        "id": "lYxmgcnes9cS"
      },
      "source": [
        "##Extra Credit - Accuracy Plots\n",
        "\n",
        "(05 points)\n",
        "\n",
        "Use the above accuracy results on the training and testing data and write code to plot the graphs as mentioned in the code block below.\n",
        "\n"
      ]
    },
    {
      "cell_type": "code",
      "metadata": {
        "id": "fbBNakSDq0Wv",
        "colab": {
          "base_uri": "https://localhost:8080/",
          "height": 276
        },
        "outputId": "2fd4bfb8-a6b8-41f2-fc4d-46b49c7263cb"
      },
      "source": [
        "# Plot the graphs for accuracy results\n",
        "learning_rates = [0.05 * i for i in range(1, 21)]\n",
        "train_accuracies = []\n",
        "test_accuracies = []\n",
        "\n",
        "for lr in learning_rates:\n",
        "  train_acc, test_acc = gradient_descent(train_gd, test_gd, learning_rate=lr)\n",
        "  train_accuracies.append(train_acc)\n",
        "  test_accuracies.append(test_acc)\n",
        "\n",
        "plt.figure(figsize=(12, 5))\n",
        "\n",
        "# Training accuracy plot\n",
        "plt.subplot(1, 2, 1)\n",
        "plt.plot(learning_rates, train_accuracies, marker='o')\n",
        "plt.title('Training Accuracy vs Learning Rate')\n",
        "plt.xlabel('Learning Rate')\n",
        "plt.ylabel('Accuracy')\n",
        "\n",
        "# Testing accuracy plot\n",
        "plt.subplot(1, 2, 2)\n",
        "plt.plot(learning_rates, test_accuracies, marker='o')\n",
        "plt.title('Testing Accuracy vs Learning Rate')\n",
        "plt.xlabel('Learning Rate')\n",
        "plt.ylabel('Accuracy')\n",
        "\n",
        "plt.tight_layout()\n",
        "plt.show()\n"
      ],
      "execution_count": null,
      "outputs": [
        {
          "output_type": "display_data",
          "data": {
            "text/plain": [
              "<Figure size 1200x500 with 2 Axes>"
            ],
            "image/png": "[encoded data removed]"
          },
          "metadata": {}
        }
      ]
    },
    {
      "cell_type": "markdown",
      "metadata": {
        "id": "onnqJYTEq0l3"
      },
      "source": [
        "#ID3 Decision Tree\n",
        "\n",
        "In this section, you will implement the ID3 Decision Tree algorithm. The training is for a **binary classification** task i.e. each instance will have a class value of 0 or 1. Also, assume that there are **no missing values** in the train or test data.\n"
      ]
    },
    {
      "cell_type": "markdown",
      "metadata": {
        "id": "eDNztBkTtRPw"
      },
      "source": [
        "## Algorithm\n",
        "\n",
        "(85 points)\n",
        "\n",
        "Following are the data files that will be provided to you for the ID3 algorithm implementation.\n",
        "\n",
        "*   Training file - 'id3-train.dat'\n",
        "*   Testing file - 'id3-test.dat'\n",
        "\n",
        "In these files, only non-space characters are relevant. The first line contains the attribute names. All the other lines are example instances to be used for the algorithm. Each column holds values of the attributes, whereas the last column holds the class label for that instance.\n",
        "\n",
        "In a decision tree, if you reach a leaf node but still have examples that belong to different classes, then choose the most frequent class (among the instances at the leaf node). If you reach a leaf node in the decision tree and have no examples left or the examples are equally split among multiple classes, then choose the class that is most frequent in the entire training set. You do not need to implement pruning. Also, don’t forget to use logarithm base 2 when computing entropy and set (0 log 0) to 0.\n",
        "\n",
        "Write the code in the following code block, structure is provided. Instructions on the steps to follow are provided as comments. The code should output the following 3 things:\n",
        "\n",
        "*   Print the Decision Tree created, in the following example format:\n",
        "\n",
        "    ```\n",
        "    attr1 = 0 :\n",
        "        attr2 = 0 :\n",
        "            attr3 = 0 : 1 -- 4\n",
        "            attr3 = 1 : 0 -- 9\n",
        "        attr2 = 1 :\n",
        "            attr4 = 0 : 0 -- 2\n",
        "            attr4 = 1 : 1 -- 10\n",
        "    attr1 = 1 :\n",
        "        attr2 = 1 : 1 -- 17\n",
        "\n",
        "    ```\n",
        "\n",
        "*   Accuracy on the Training data = x %\n",
        "*   Accuracy on the Test data = x %\n",
        "\n",
        "\n",
        "\n"
      ]
    },
    {
      "cell_type": "code",
      "metadata": {
        "id": "wTLz1lGYQJKS"
      },
      "source": [
        "# Data file name variables\n",
        "train = basePath + \"id3-train.dat\"\n",
        "test = basePath + \"id3-test.dat\"\n"
      ],
      "execution_count": null,
      "outputs": []
    },
    {
      "cell_type": "code",
      "metadata": {
        "id": "HwHYC6xjQP5D"
      },
      "source": [
        "# Entropy Calculation\n",
        "def entropy(labels):\n",
        "  label_counts = Counter(labels)\n",
        "  total_count = len(labels)\n",
        "  entropy_value = 0.0\n",
        "  for count in label_counts.values():\n",
        "    probability = count / total_count\n",
        "    entropy_value -= probability * np.log2(probability)\n",
        "  return entropy_value\n",
        "\n",
        "# Information Gain Calculation\n",
        "def information_gain(data, split_attribute, target_attribute):\n",
        "    total_entropy = entropy(data[target_attribute])\n",
        "    values, counts = np.unique(data[split_attribute], return_counts=True)\n",
        "    weighted_entropy = sum(\n",
        "        (counts[i] / np.sum(counts)) * entropy(data.where(data[split_attribute] == values[i]).dropna()[target_attribute])\n",
        "        for i in range(len(values))\n",
        "    )\n",
        "    return total_entropy - weighted_entropy\n",
        "\n",
        "# ID3 Algorithm\n",
        "def id3(data, original_data, features, target_attribute, parent_node_class=None):\n",
        "  if len(np.unique(data[target_attribute])) <= 1:\n",
        "    return np.unique(data[target_attribute])[0]\n",
        "  elif len(data) == 0:\n",
        "    return np.unique(original_data[target_attribute])[np.argmax(np.unique(original_data[target_attribute], return_counts=True)[1])]\n",
        "  elif len(features) == 0:\n",
        "    return parent_node_class\n",
        "  else:\n",
        "    parent_node_class = np.unique(data[target_attribute])[np.argmax(np.unique(data[target_attribute], return_counts=True)[1])]\n",
        "    item_values = [information_gain(data, feature, target_attribute) for feature in features]\n",
        "    best_feature_index = np.argmax(item_values)\n",
        "    best_feature = features[best_feature_index]\n",
        "    tree = {best_feature: {}}\n",
        "    features = [i for i in features if i != best_feature]\n",
        "    for value in np.unique(data[best_feature]):\n",
        "      sub_data = data.where(data[best_feature] == value).dropna()\n",
        "      subtree = id3(sub_data, original_data, features, target_attribute, parent_node_class)\n",
        "      tree[best_feature][value] = subtree\n",
        "    return tree\n",
        "\n"
      ],
      "execution_count": null,
      "outputs": []
    },
    {
      "cell_type": "code",
      "metadata": {
        "id": "XELGzRDftS77",
        "colab": {
          "base_uri": "https://localhost:8080/"
        },
        "outputId": "301e90c6-ff0c-4eac-8c80-78849ff996b6"
      },
      "source": [
        "# Read the data files\n",
        "train_id3 = pd.read_csv(basePath + \"id3-train.dat\", delim_whitespace=True)\n",
        "test_id3 = pd.read_csv(basePath + \"id3-test.dat\", delim_whitespace=True)\n",
        "\n",
        "# List of feature names\n",
        "features = train_id3.columns[:-1].tolist()\n",
        "target_attribute = train_id3.columns[-1]\n",
        "\n",
        "# Create the decision tree using the ID3 algorithm\n",
        "tree = id3(train_id3, train_id3, features, target_attribute)\n",
        "\n",
        "# Function to print the decision tree\n",
        "def print_tree(tree, depth=0):\n",
        "  if isinstance(tree, dict):\n",
        "    for key, value in tree.items():\n",
        "      for sub_key, sub_value in value.items():\n",
        "        if isinstance(sub_value, dict):\n",
        "          print(' ' * depth * 4 + str(key) + ' = ' + str(int(sub_key)) + ' :')\n",
        "          print_tree(sub_value, depth + 1)\n",
        "        else:\n",
        "          print(' ' * depth * 4 + str(key) + ' = ' + str(int(sub_key)) + ' : ' + str(int(sub_value)) + ' -- ' + str(depth))\n",
        "  else:\n",
        "    print(' ' * depth * 4 + str(int(tree)) + ' -- ' + str(depth))\n",
        "\n",
        "\n",
        "# Print the created decision tree\n",
        "print_tree(tree)\n",
        "\n",
        "# Function to predict using the decision tree\n",
        "def predict(tree, instance):\n",
        "  if not isinstance(tree, dict):\n",
        "    return tree\n",
        "  attribute = list(tree.keys())[0]\n",
        "  if instance[attribute] in tree[attribute]:\n",
        "    return predict(tree[attribute][instance[attribute]], instance)\n",
        "  else:\n",
        "    return 0  # Default\n",
        "\n",
        "# Function to calculate the accuracy of the decision tree\n",
        "def calculate_accuracy(data, tree):\n",
        "  correct_predictions = sum(predict(tree, row) == row[target_attribute] for index, row in data.iterrows())\n",
        "  return correct_predictions / len(data)\n",
        "\n",
        "# Calculate and print the accuracy on the training data\n",
        "train_accuracy = calculate_accuracy(train_id3, tree)\n",
        "print(f\"Accuracy on Training data = {train_accuracy * 100:.2f} %\")\n",
        "\n",
        "# Calculate and print the accuracy on the testing data\n",
        "test_accuracy = calculate_accuracy(test_id3, tree)\n",
        "print(f\"Accuracy on Testing data = {test_accuracy * 100:.2f} %\")\n"
      ],
      "execution_count": null,
      "outputs": [
        {
          "output_type": "stream",
          "name": "stdout",
          "text": [
            "attr5 = 0 :\n",
            "    attr6 = 0 :\n",
            "        attr2 = 0 :\n",
            "            attr1 = 0 :\n",
            "                attr4 = 0 :\n",
            "                    attr3 = 0 : 0 -- 5\n",
            "                    attr3 = 1 : 0 -- 5\n",
            "                attr4 = 1 :\n",
            "                    attr3 = 0 : 0 -- 5\n",
            "                    attr3 = 1 : 0 -- 5\n",
            "            attr1 = 1 :\n",
            "                attr4 = 0 :\n",
            "                    attr3 = 0 : 0 -- 5\n",
            "                    attr3 = 1 : 0 -- 5\n",
            "                attr4 = 1 : 0 -- 4\n",
            "        attr2 = 1 :\n",
            "            attr4 = 0 :\n",
            "                attr3 = 0 : 0 -- 4\n",
            "                attr3 = 1 :\n",
            "                    attr1 = 0 : 0 -- 5\n",
            "                    attr1 = 1 : 0 -- 5\n",
            "            attr4 = 1 :\n",
            "                attr1 = 0 :\n",
            "                    attr3 = 0 : 0 -- 5\n",
            "                    attr3 = 1 : 0 -- 5\n",
            "                attr1 = 1 :\n",
            "                    attr3 = 0 : 0 -- 5\n",
            "                    attr3 = 1 : 0 -- 5\n",
            "    attr6 = 1 :\n",
            "        attr4 = 0 :\n",
            "            attr2 = 0 :\n",
            "                attr3 = 0 :\n",
            "                    attr1 = 0 : 0 -- 5\n",
            "                    attr1 = 1 : 0 -- 5\n",
            "                attr3 = 1 :\n",
            "                    attr1 = 0 : 0 -- 5\n",
            "                    attr1 = 1 : 0 -- 5\n",
            "            attr2 = 1 :\n",
            "                attr1 = 0 :\n",
            "                    attr3 = 0 : 0 -- 5\n",
            "                    attr3 = 1 : 0 -- 5\n",
            "                attr1 = 1 :\n",
            "                    attr3 = 0 : 0 -- 5\n",
            "                    attr3 = 1 : 0 -- 5\n",
            "        attr4 = 1 :\n",
            "            attr2 = 0 :\n",
            "                attr1 = 0 :\n",
            "                    attr3 = 0 : 0 -- 5\n",
            "                    attr3 = 1 : 0 -- 5\n",
            "                attr1 = 1 :\n",
            "                    attr3 = 0 : 0 -- 5\n",
            "                    attr3 = 1 : 0 -- 5\n",
            "            attr2 = 1 :\n",
            "                attr1 = 0 :\n",
            "                    attr3 = 0 : 1 -- 5\n",
            "                    attr3 = 1 : 1 -- 5\n",
            "                attr1 = 1 :\n",
            "                    attr3 = 0 : 0 -- 5\n",
            "                    attr3 = 1 : 0 -- 5\n",
            "attr5 = 1 :\n",
            "    attr6 = 0 :\n",
            "        attr3 = 0 :\n",
            "            attr4 = 0 :\n",
            "                attr1 = 0 :\n",
            "                    attr2 = 0 : 0 -- 5\n",
            "                    attr2 = 1 : 0 -- 5\n",
            "                attr1 = 1 :\n",
            "                    attr2 = 0 : 0 -- 5\n",
            "                    attr2 = 1 : 0 -- 5\n",
            "            attr4 = 1 :\n",
            "                attr1 = 0 :\n",
            "                    attr2 = 0 : 1 -- 5\n",
            "                    attr2 = 1 : 1 -- 5\n",
            "                attr1 = 1 :\n",
            "                    attr2 = 0 : 0 -- 5\n",
            "                    attr2 = 1 : 0 -- 5\n",
            "        attr3 = 1 :\n",
            "            attr2 = 0 :\n",
            "                attr4 = 0 :\n",
            "                    attr1 = 0 : 1 -- 5\n",
            "                    attr1 = 1 : 1 -- 5\n",
            "                attr4 = 1 : 1 -- 4\n",
            "            attr2 = 1 :\n",
            "                attr1 = 0 :\n",
            "                    attr4 = 0 : 1 -- 5\n",
            "                    attr4 = 1 : 1 -- 5\n",
            "                attr1 = 1 :\n",
            "                    attr4 = 0 : 0 -- 5\n",
            "                    attr4 = 1 : 0 -- 5\n",
            "    attr6 = 1 :\n",
            "        attr4 = 0 :\n",
            "            attr2 = 0 :\n",
            "                attr3 = 0 :\n",
            "                    attr1 = 0 : 0 -- 5\n",
            "                    attr1 = 1 : 0 -- 5\n",
            "                attr3 = 1 : 0 -- 4\n",
            "            attr2 = 1 :\n",
            "                attr1 = 0 :\n",
            "                    attr3 = 0 : 0 -- 5\n",
            "                    attr3 = 1 : 0 -- 5\n",
            "                attr1 = 1 : 0 -- 4\n",
            "        attr4 = 1 :\n",
            "            attr1 = 0 :\n",
            "                attr2 = 0 :\n",
            "                    attr3 = 0 : 0 -- 5\n",
            "                    attr3 = 1 : 1 -- 5\n",
            "                attr2 = 1 :\n",
            "                    attr3 = 0 : 0 -- 5\n",
            "                    attr3 = 1 : 0 -- 5\n",
            "            attr1 = 1 :\n",
            "                attr2 = 0 :\n",
            "                    attr3 = 0 : 0 -- 5\n",
            "                    attr3 = 1 : 0 -- 5\n",
            "                attr2 = 1 :\n",
            "                    attr3 = 0 : 0 -- 5\n",
            "                    attr3 = 1 : 0 -- 5\n",
            "Accuracy on Training data = 87.62 %\n",
            "Accuracy on Testing data = 83.25 %\n"
          ]
        }
      ]
    },
    {
      "cell_type": "markdown",
      "metadata": {
        "id": "YvYowzzA4vcd"
      },
      "source": [
        "##Extra Credit - Learning Curve\n",
        "\n",
        "(05 points)\n",
        "\n",
        "Instead of taking the entire training data (all 800 instances), loop through to select 'x' instances in the increments of 40 (i.e. 40, 80, 120, and so on). For each selected number 'x', randomly pick the example instances from the training data and call the ID3 function to create the decision tree. Calculate the accuracy of the created ID3 tree on the Test data file. Plot the corresponding graph, aka Learning Curve.\n"
      ]
    },
    {
      "cell_type": "code",
      "metadata": {
        "id": "FYSK99zp5a7H",
        "colab": {
          "base_uri": "https://localhost:8080/",
          "height": 440
        },
        "outputId": "6bed3648-3e3b-442d-f498-67ad6dd447ec"
      },
      "source": [
        "import random\n",
        "\n",
        "# Learning Curve Function\n",
        "def learning_curve(train_data, test_data, target_attribute, increments=40):\n",
        "    accuracies = []\n",
        "    for i in range(increments, len(train_data) + 1, increments):\n",
        "        sample = train_data.sample(i)\n",
        "        tree = id3(sample, sample, sample.columns[:-1].tolist(), target_attribute)\n",
        "        accuracy = calculate_accuracy(test_data, tree)\n",
        "        accuracies.append((i, accuracy))\n",
        "    return accuracies\n",
        "\n",
        "learning_accuracies = learning_curve(train_id3, test_id3, target_attribute)\n",
        "\n",
        "# Plot Learning Curve\n",
        "x_vals = [x for x, y in learning_accuracies]\n",
        "y_vals = [y for x, y in learning_accuracies]\n",
        "\n",
        "plt.figure(figsize=(8, 5))\n",
        "plt.plot(x_vals, y_vals, marker='o')\n",
        "plt.title('Learning Curve')\n",
        "plt.xlabel('Number of Training Instances')\n",
        "plt.ylabel('Accuracy on Test Data')\n",
        "plt.show()\n"
      ],
      "execution_count": null,
      "outputs": [
        {
          "output_type": "display_data",
          "data": {
            "text/plain": [
              "<Figure size 800x500 with 1 Axes>"
            ],
            "image/png": "[encoded data removed]"
          },
          "metadata": {}
        }
      ]
    },
    {
      "cell_type": "markdown",
      "metadata": {
        "id": "YJSFgNBQrhQU"
      },
      "source": [
        "#Submission Instructions\n",
        "\n",
        "1.   Complete all tasks above - **File MUST contain the output for ALL cells**\n",
        "2.   Export this notebook as .ipynb\n",
        "      (File > Download as ipynb)\n",
        "3.   Upload the .ipynb file on Blackboard"
      ]
    },
    {
      "cell_type": "markdown",
      "metadata": {
        "id": "0lGvLE9H6ptL"
      },
      "source": [
        "##Rubric\n",
        "\n",
        "*   (40 points) Gradient Descent Algorithm\n",
        "*   (05 points) Extra Credit - GD Accuracy Plots\n",
        "*   (85 points) ID3 Algorithm\n",
        "*   (05 points) Extra Credit - ID3 Learning Curve\n"
      ]
    }
  ]
}